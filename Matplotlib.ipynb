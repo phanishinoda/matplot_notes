{
 "cells": [
  {
   "cell_type": "markdown",
   "id": "d89e609f",
   "metadata": {},
   "source": [
    "### import libraries"
   ]
  },
  {
   "cell_type": "code",
   "execution_count": 1,
   "id": "3754a52a",
   "metadata": {},
   "outputs": [],
   "source": [
    "from matplotlib import pyplot as plt"
   ]
  },
  {
   "cell_type": "code",
   "execution_count": 6,
   "id": "b5b3757f",
   "metadata": {},
   "outputs": [],
   "source": [
    "x = list(range(1,10))\n",
    "y = list(range(11,20))"
   ]
  },
  {
   "cell_type": "markdown",
   "id": "7e556ab6",
   "metadata": {},
   "source": [
    "### Plot with label and Title"
   ]
  },
  {
   "cell_type": "code",
   "execution_count": 13,
   "id": "be61469c",
   "metadata": {},
   "outputs": [
    {
     "data": {
      "image/png": "[encoded data removed]",
      "text/plain": [
       "<Figure size 432x288 with 1 Axes>"
      ]
     },
     "metadata": {
      "needs_background": "light"
     },
     "output_type": "display_data"
    }
   ],
   "source": [
    "plt.xlabel('x-axis')\n",
    "plt.ylabel('y-axis')\n",
    "\n",
    "plt.title('Title of Plot')\n",
    "\n",
    "plt.plot(x,y)\n",
    "# use ; to elimintate the text above plot\n",
    "# plt.plot(x,y);\n",
    "\n",
    "plt.show()"
   ]
  },
  {
   "cell_type": "markdown",
   "id": "4bcb64b6",
   "metadata": {},
   "source": []
  },
  {
   "cell_type": "markdown",
   "id": "e8c0162e",
   "metadata": {},
   "source": []
  },
  {
   "cell_type": "markdown",
   "id": "9ab02c1f",
   "metadata": {},
   "source": []
  },
  {
   "cell_type": "markdown",
   "id": "018ac0e5",
   "metadata": {},
   "source": []
  },
  {
   "cell_type": "markdown",
   "id": "7721238e",
   "metadata": {},
   "source": []
  },
  {
   "cell_type": "markdown",
   "id": "e3b653d9",
   "metadata": {},
   "source": []
  },
  {
   "cell_type": "markdown",
   "id": "512e9537",
   "metadata": {},
   "source": []
  },
  {
   "cell_type": "markdown",
   "id": "d39f2fc1",
   "metadata": {},
   "source": []
  },
  {
   "cell_type": "markdown",
   "id": "77039313",
   "metadata": {},
   "source": []
  },
  {
   "cell_type": "markdown",
   "id": "10530750",
   "metadata": {},
   "source": []
  },
  {
   "cell_type": "markdown",
   "id": "732b9fe3",
   "metadata": {},
   "source": []
  },
  {
   "cell_type": "markdown",
   "id": "fb2aeec3",
   "metadata": {},
   "source": []
  },
  {
   "cell_type": "markdown",
   "id": "bae41c6c",
   "metadata": {},
   "source": []
  },
  {
   "cell_type": "markdown",
   "id": "eaffaeb2",
   "metadata": {},
   "source": []
  },
  {
   "cell_type": "markdown",
   "id": "af7a46f4",
   "metadata": {},
   "source": []
  },
  {
   "cell_type": "markdown",
   "id": "added4ca",
   "metadata": {},
   "source": []
  }
 ],
 "metadata": {
  "kernelspec": {
   "display_name": "Python 3",
   "language": "python",
   "name": "python3"
  },
  "language_info": {
   "codemirror_mode": {
    "name": "ipython",
    "version": 3
   },
   "file_extension": ".py",
   "mimetype": "text/x-python",
   "name": "python",
   "nbconvert_exporter": "python",
   "pygments_lexer": "ipython3",
   "version": "3.8.8"
  }
 },
 "nbformat": 4,
 "nbformat_minor": 5
}
