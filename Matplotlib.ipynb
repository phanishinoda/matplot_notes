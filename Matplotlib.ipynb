{
 "cells": [
  {
   "cell_type": "markdown",
   "id": "e2ac0d49",
   "metadata": {},
   "source": [
    "### import libraries"
   ]
  },
  {
   "cell_type": "code",
   "execution_count": 1,
   "id": "c56686a3",
   "metadata": {},
   "outputs": [],
   "source": [
    "from matplotlib import pyplot as plt"
   ]
  },
  {
   "cell_type": "markdown",
   "id": "e23327ef",
   "metadata": {},
   "source": []
  },
  {
   "cell_type": "markdown",
   "id": "1b394fda",
   "metadata": {},
   "source": []
  },
  {
   "cell_type": "markdown",
   "id": "8d8097ca",
   "metadata": {},
   "source": []
  },
  {
   "cell_type": "markdown",
   "id": "9f0d6f7a",
   "metadata": {},
   "source": []
  },
  {
   "cell_type": "markdown",
   "id": "08d265ef",
   "metadata": {},
   "source": []
  },
  {
   "cell_type": "markdown",
   "id": "81687a1f",
   "metadata": {},
   "source": []
  },
  {
   "cell_type": "markdown",
   "id": "e6429dcf",
   "metadata": {},
   "source": []
  },
  {
   "cell_type": "markdown",
   "id": "88f367ba",
   "metadata": {},
   "source": []
  },
  {
   "cell_type": "markdown",
   "id": "d232e9f1",
   "metadata": {},
   "source": []
  },
  {
   "cell_type": "markdown",
   "id": "00e033b7",
   "metadata": {},
   "source": []
  },
  {
   "cell_type": "markdown",
   "id": "94a3ddc0",
   "metadata": {},
   "source": []
  },
  {
   "cell_type": "markdown",
   "id": "217b9b78",
   "metadata": {},
   "source": []
  },
  {
   "cell_type": "markdown",
   "id": "b6332869",
   "metadata": {},
   "source": []
  },
  {
   "cell_type": "markdown",
   "id": "331e2cbc",
   "metadata": {},
   "source": []
  },
  {
   "cell_type": "markdown",
   "id": "25ae7789",
   "metadata": {},
   "source": []
  },
  {
   "cell_type": "markdown",
   "id": "0edfa9e6",
   "metadata": {},
   "source": []
  }
 ],
 "metadata": {
  "kernelspec": {
   "display_name": "Python 3",
   "language": "python",
   "name": "python3"
  },
  "language_info": {
   "codemirror_mode": {
    "name": "ipython",
    "version": 3
   },
   "file_extension": ".py",
   "mimetype": "text/x-python",
   "name": "python",
   "nbconvert_exporter": "python",
   "pygments_lexer": "ipython3",
   "version": "3.8.8"
  }
 },
 "nbformat": 4,
 "nbformat_minor": 5
}
