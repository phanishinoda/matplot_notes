{
 "cells": [
  {
   "cell_type": "markdown",
   "id": "ffb24feb",
   "metadata": {},
   "source": [
    "### import libraries"
   ]
  },
  {
   "cell_type": "code",
   "execution_count": 1,
   "id": "578e832c",
   "metadata": {},
   "outputs": [],
   "source": [
    "from matplotlib import pyplot as plt"
   ]
  },
  {
   "cell_type": "code",
   "execution_count": 2,
   "id": "06cd7f9c",
   "metadata": {},
   "outputs": [],
   "source": [
    "x = list(range(1,10))\n",
    "y = list(range(11,20))"
   ]
  },
  {
   "cell_type": "code",
   "execution_count": 3,
   "id": "b0a959d3",
   "metadata": {},
   "outputs": [
    {
     "data": {
      "text/plain": [
       "[<matplotlib.lines.Line2D at 0x14c573599a0>]"
      ]
     },
     "execution_count": 3,
     "metadata": {},
     "output_type": "execute_result"
    },
    {
     "data": {
      "image/png": "[encoded data removed]",
      "text/plain": [
       "<Figure size 432x288 with 1 Axes>"
      ]
     },
     "metadata": {
      "needs_background": "light"
     },
     "output_type": "display_data"
    }
   ],
   "source": [
    "plt.plot(x,y)\n",
    "# use ; to elimintate the text above plot\n",
    "# plt.plot(x,y);"
   ]
  },
  {
   "cell_type": "code",
   "execution_count": null,
   "id": "e5dc377b",
   "metadata": {},
   "outputs": [],
   "source": []
  },
  {
   "cell_type": "markdown",
   "id": "252271ca",
   "metadata": {},
   "source": []
  },
  {
   "cell_type": "markdown",
   "id": "a6d0501b",
   "metadata": {},
   "source": []
  },
  {
   "cell_type": "markdown",
   "id": "d047ca7e",
   "metadata": {},
   "source": []
  },
  {
   "cell_type": "markdown",
   "id": "0b88aa81",
   "metadata": {},
   "source": []
  },
  {
   "cell_type": "markdown",
   "id": "5f12636e",
   "metadata": {},
   "source": []
  },
  {
   "cell_type": "markdown",
   "id": "a0ceda8a",
   "metadata": {},
   "source": []
  },
  {
   "cell_type": "markdown",
   "id": "15357c5c",
   "metadata": {},
   "source": []
  },
  {
   "cell_type": "markdown",
   "id": "72871001",
   "metadata": {},
   "source": []
  },
  {
   "cell_type": "markdown",
   "id": "92c145da",
   "metadata": {},
   "source": []
  },
  {
   "cell_type": "markdown",
   "id": "2223fcbd",
   "metadata": {},
   "source": []
  },
  {
   "cell_type": "markdown",
   "id": "e8d56ca7",
   "metadata": {},
   "source": []
  },
  {
   "cell_type": "markdown",
   "id": "43176457",
   "metadata": {},
   "source": []
  },
  {
   "cell_type": "markdown",
   "id": "7349809c",
   "metadata": {},
   "source": []
  },
  {
   "cell_type": "markdown",
   "id": "dc30823f",
   "metadata": {},
   "source": []
  },
  {
   "cell_type": "markdown",
   "id": "327c21b6",
   "metadata": {},
   "source": []
  },
  {
   "cell_type": "markdown",
   "id": "117fc2f7",
   "metadata": {},
   "source": []
  }
 ],
 "metadata": {
  "kernelspec": {
   "display_name": "Python 3",
   "language": "python",
   "name": "python3"
  },
  "language_info": {
   "codemirror_mode": {
    "name": "ipython",
    "version": 3
   },
   "file_extension": ".py",
   "mimetype": "text/x-python",
   "name": "python",
   "nbconvert_exporter": "python",
   "pygments_lexer": "ipython3",
   "version": "3.8.8"
  }
 },
 "nbformat": 4,
 "nbformat_minor": 5
}
